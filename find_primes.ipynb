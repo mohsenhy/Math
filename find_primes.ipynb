{
 "cells": [
  {
   "cell_type": "code",
   "execution_count": 9,
   "metadata": {},
   "outputs": [
    {
     "name": "stdout",
     "output_type": "stream",
     "text": [
      "[2, 3, 5, 7, 11, 13, 17, 19]\n"
     ]
    }
   ],
   "source": [
    "def find_primes_1(n):\n",
    "\n",
    "    if int(n) != n:\n",
    "        primes = 'The input is not valid (should be integer).'\n",
    "    elif n == 2:\n",
    "        primes = [2]\n",
    "    elif n > 2:\n",
    "        primes = [2]\n",
    "\n",
    "        for i in range(2,n+1):\n",
    "            is_prime = True\n",
    "            for k in primes:\n",
    "                if i % k == 0:\n",
    "                    is_prime = False\n",
    "                    break\n",
    "            if is_prime:\n",
    "                primes.append(i)\n",
    "    else:\n",
    "        primes = 'The input is not valid.'\n",
    "    \n",
    "    return primes\n",
    "\n",
    "print(find_primes_1(20))"
   ]
  },
  {
   "cell_type": "code",
   "execution_count": 10,
   "metadata": {},
   "outputs": [
    {
     "name": "stdout",
     "output_type": "stream",
     "text": [
      "[2, 3, 5, 7, 11, 13, 17, 19]\n"
     ]
    }
   ],
   "source": [
    "def find_primes_2(n):\n",
    "    \n",
    "    if n < 2:\n",
    "        return []\n",
    "    primes = []\n",
    "    for i in range(2,n+1):\n",
    "        is_prime = True\n",
    "        for j in range(2,int(i**(1/2))+1):\n",
    "            if i%j == 0:\n",
    "                is_prime = False\n",
    "                break\n",
    "        if is_prime:\n",
    "            primes.append(i)\n",
    "    return primes\n",
    "\n",
    "print(find_primes_2(20))"
   ]
  },
  {
   "cell_type": "code",
   "execution_count": 18,
   "metadata": {},
   "outputs": [
    {
     "name": "stdout",
     "output_type": "stream",
     "text": [
      "[2, 3, 5, 7, 11, 13, 17, 19]\n"
     ]
    }
   ],
   "source": [
    "def find_primes_3_1(n):\n",
    "    if n < 2:\n",
    "        return []\n",
    "    primes = [True for i in range(n+1)]\n",
    "    p = 2\n",
    "\n",
    "    while p*p <= n:\n",
    "        if primes[p]:\n",
    "            for i in range(p**2,n+1,p):\n",
    "                primes[i] = False\n",
    "        p = p+1\n",
    "    primes = [p for p in range(2,n+1) if primes[p]]\n",
    "\n",
    "    return primes\n",
    "\n",
    "print(find_primes_3_1(20))"
   ]
  },
  {
   "cell_type": "code",
   "execution_count": 20,
   "metadata": {},
   "outputs": [
    {
     "name": "stdout",
     "output_type": "stream",
     "text": [
      "[2, 3, 5, 7, 11, 13, 17, 19]\n"
     ]
    }
   ],
   "source": [
    "def find_primes_3_2(n):\n",
    "    if n < 2:\n",
    "        return []\n",
    "    primes = [True for i in range(n+1)]\n",
    "    p = 2\n",
    "\n",
    "    while p*p <= n:\n",
    "        if primes[p]:\n",
    "            for i in range(p*2,n+1,p):\n",
    "                primes[i] = False\n",
    "        p = p+1\n",
    "    primes = [p for p in range(2,n+1) if primes[p]]\n",
    "\n",
    "    return primes\n",
    "\n",
    "print(find_primes_3_2(20))"
   ]
  },
  {
   "cell_type": "code",
   "execution_count": 11,
   "metadata": {},
   "outputs": [
    {
     "name": "stdout",
     "output_type": "stream",
     "text": [
      "[2, 3, 5, 7, 11, 13, 17, 19]\n"
     ]
    }
   ],
   "source": [
    "def find_primes_4(n):\n",
    "    n_new = (n-2) // 2\n",
    "    marked = [False] * (n_new + 1)\n",
    "\n",
    "    for i in range(1, n_new + 1):\n",
    "        j = i\n",
    "        while(i + j + 2 * i * j <= n_new):\n",
    "            marked[i + j + 2 * i * j] = True\n",
    "            j += 1\n",
    "\n",
    "    primes = [2] if n > 2 else []\n",
    "\n",
    "    for i in range(1, n_new + 1):\n",
    "        if not marked[i]:\n",
    "            primes.append(2 * i + 1)\n",
    "\n",
    "    return primes\n",
    "\n",
    "print(find_primes_4(20))"
   ]
  },
  {
   "cell_type": "code",
   "execution_count": 17,
   "metadata": {},
   "outputs": [
    {
     "name": "stdout",
     "output_type": "stream",
     "text": [
      "[2, 3, 5, 7, 11, 13, 17, 19]\n"
     ]
    }
   ],
   "source": [
    "\n",
    "                "
   ]
  }
 ],
 "metadata": {
  "kernelspec": {
   "display_name": "Python 3",
   "language": "python",
   "name": "python3"
  },
  "language_info": {
   "codemirror_mode": {
    "name": "ipython",
    "version": 3
   },
   "file_extension": ".py",
   "mimetype": "text/x-python",
   "name": "python",
   "nbconvert_exporter": "python",
   "pygments_lexer": "ipython3",
   "version": "3.10.7"
  }
 },
 "nbformat": 4,
 "nbformat_minor": 2
}
